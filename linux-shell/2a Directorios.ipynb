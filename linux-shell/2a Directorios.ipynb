{
 "cells": [
  {
   "cell_type": "markdown",
   "id": "e84a73af-415f-483f-bfdf-87fd78efcf0b",
   "metadata": {},
   "source": [
    "# 2a Visualizando $HOME"
   ]
  },
  {
   "cell_type": "markdown",
   "id": "79943372-601d-4d12-b3b7-93c3864f5339",
   "metadata": {},
   "source": [
    "Objetivos de la unidad:\n",
    "\n",
    "* Introducir a las coreutils *pwd* y *ls*.\n",
    "* Revisar convenciones de directorios y *dotfiles*."
   ]
  },
  {
   "cell_type": "markdown",
   "id": "a299949c-0f0b-413d-9b7b-1f2e11ac7450",
   "metadata": {},
   "source": [
    "## ¿Dónde estoy?\n",
    "\n",
    "La shell de Linux siempre se ubica en un directorio."
   ]
  },
  {
   "cell_type": "code",
   "execution_count": 10,
   "id": "09a32dee-a196-4731-9983-6163a287670b",
   "metadata": {},
   "outputs": [
    {
     "name": "stdout",
     "output_type": "stream",
     "text": [
      "/home/sammy\n"
     ]
    }
   ],
   "source": [
    "%%bash\n",
    "pwd"
   ]
  },
  {
   "cell_type": "markdown",
   "id": "c1f8d3ea-a7a8-45cc-b1a7-f11c9540ffad",
   "metadata": {},
   "source": [
    "* Puede leerse como *Print Working Directory*\n",
    "* Por defecto es `/home/user` para el *user* de la sesión.\n",
    "  * A este directorio se le conoce como $HOME."
   ]
  },
  {
   "cell_type": "markdown",
   "id": "a1564fcf-b56b-42c5-b280-d4d598a08cd0",
   "metadata": {},
   "source": [
    "## ¿Qué hay aquí?\n",
    "\n",
    "Cada directorio contiene a un conjunto de archivos."
   ]
  },
  {
   "cell_type": "code",
   "execution_count": 12,
   "id": "031ca7d0-ec8c-4e86-990b-9cf84bf06aef",
   "metadata": {},
   "outputs": [
    {
     "name": "stdout",
     "output_type": "stream",
     "text": [
      "2a Visualizando $HOME.ipynb\n",
      "Books\n",
      "Desktop\n",
      "Documents\n",
      "Downloads\n",
      "Pictures\n",
      "Sandbox\n"
     ]
    }
   ],
   "source": [
    "%%bash\n",
    "ls"
   ]
  },
  {
   "cell_type": "markdown",
   "id": "60cd05ee-231c-44f8-9812-cdbbd9d61f86",
   "metadata": {},
   "source": [
    "* Puede leerse como *List*\n",
    "* Imprime los archivos y directorios en el *Working Directory*."
   ]
  },
  {
   "cell_type": "markdown",
   "id": "048dcc99-39b8-4ef9-a2b8-76f93131419a",
   "metadata": {},
   "source": [
    "## ¿Hay más aquí?\n",
    "\n",
    "Algunos archivos fueron suprimidos, para incluirlos."
   ]
  },
  {
   "cell_type": "code",
   "execution_count": null,
   "id": "0db50a6c-39d5-4adf-b6d4-90c632f629df",
   "metadata": {},
   "outputs": [],
   "source": [
    "%%bash\n",
    "ls -a"
   ]
  },
  {
   "cell_type": "markdown",
   "id": "75e368d7-0b24-4ab4-bae4-d1b8c09921ce",
   "metadata": {},
   "source": [
    "* Puede leerse como *List all*\n",
    "* No ignora los archivos que empiezan con un punto."
   ]
  },
  {
   "cell_type": "markdown",
   "id": "5275f509-7ae1-4e73-9c2a-88f8811a62ab",
   "metadata": {},
   "source": [
    "## Directorios reservados\n",
    "\n",
    "Cada directorio reserva en su interior dos nombres:\n",
    "\n",
    "* `.` (punto) - referencia al *Working Directory*.\n",
    "* `..` (doble punto) - referencia al directorio superior."
   ]
  },
  {
   "cell_type": "code",
   "execution_count": 23,
   "id": "3b20f63d-9d07-45a6-badb-750e8669c5ad",
   "metadata": {},
   "outputs": [
    {
     "name": "stdout",
     "output_type": "stream",
     "text": [
      "==> Working Directory:\n",
      "/home/sammy\n",
      "==> Directorio punto:\n",
      "2a Visualizando $HOME.ipynb\n",
      "Books\n",
      "Desktop\n",
      "Documents\n",
      "Downloads\n",
      "Pictures\n",
      "Sandbox\n",
      "==> Directorio doble punto:\n",
      "sammy\n"
     ]
    }
   ],
   "source": [
    "%%bash\n",
    "echo \"==> Working Directory:\"\n",
    "pwd\n",
    "echo \"==> Directorio punto:\"\n",
    "ls .\n",
    "echo \"==> Directorio doble punto:\"\n",
    "ls .."
   ]
  },
  {
   "cell_type": "markdown",
   "id": "ef1619ed-89df-4ed9-936a-fdd5566a8dec",
   "metadata": {},
   "source": [
    "## Archivos punto (dotfiles)\n",
    "\n",
    "* Archivos o directorios que empiezan con un punto.\n",
    "* Se ignoran en la salida de `ls`.\n",
    "* Utilizados para guardar configuración de programas."
   ]
  },
  {
   "cell_type": "markdown",
   "id": "1786ea41-5757-47fe-82d1-0bc0430036fb",
   "metadata": {},
   "source": [
    "## XDG Base Directory Specification\n",
    "\n",
    "Directorios reservados para configuraciones de programas:\n",
    "\n",
    "* `.local` - archivos de usuario creados por programas.\n",
    "* `.config` - archivos de configuración de programas.\n",
    "* `.cache` - archivos caché, pueden borrarse sin perder información."
   ]
  }
 ],
 "metadata": {
  "kernelspec": {
   "display_name": "Python 3 (ipykernel)",
   "language": "python",
   "name": "python3"
  },
  "language_info": {
   "codemirror_mode": {
    "name": "ipython",
    "version": 3
   },
   "file_extension": ".py",
   "mimetype": "text/x-python",
   "name": "python",
   "nbconvert_exporter": "python",
   "pygments_lexer": "ipython3",
   "version": "3.12.4"
  }
 },
 "nbformat": 4,
 "nbformat_minor": 5
}
