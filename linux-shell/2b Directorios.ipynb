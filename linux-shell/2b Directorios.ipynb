{
 "cells": [
  {
   "cell_type": "markdown",
   "id": "452ca8f1-dbcb-4528-ba9c-2f86a4444910",
   "metadata": {},
   "source": [
    "# Modificando $HOME\n",
    "\n",
    "Objetivos:\n",
    "\n",
    "* Introducir a las coreutils *mkdir* y *rmdir*.\n",
    "* Repasar *ls* y rutas relativas como argumentos."
   ]
  },
  {
   "cell_type": "markdown",
   "id": "63f7da7e-451f-44b8-8742-64b14f93a69e",
   "metadata": {},
   "source": [
    "## Crear un directorio\n",
    "\n",
    "Para crear un directorio en el *Working Directory*."
   ]
  },
  {
   "cell_type": "code",
   "execution_count": 18,
   "id": "f2ecccf4-4e44-4b18-a714-5dfcb4d37c72",
   "metadata": {},
   "outputs": [
    {
     "name": "stdout",
     "output_type": "stream",
     "text": [
      "2b Directorios.ipynb\n",
      "Books\n",
      "Desktop\n",
      "Documents\n",
      "Downloads\n",
      "patata\n",
      "Pictures\n",
      "Sandbox\n",
      "vegetales\n"
     ]
    }
   ],
   "source": [
    "%%bash\n",
    "mkdir patata\n",
    "ls"
   ]
  },
  {
   "cell_type": "markdown",
   "id": "28aa153b-bb69-4d80-905c-cc3f64154db7",
   "metadata": {},
   "source": [
    "* Puede leerse *Make Directory patata*\n",
    "* Si un archivo o directorio del mismo nombre existe, el programa retornará un error."
   ]
  },
  {
   "cell_type": "markdown",
   "id": "24a61dc6-f9aa-4c5c-ad33-a4866313ebd2",
   "metadata": {},
   "source": [
    "## Crear un directorio anidado\n",
    "\n",
    "Para crear un directorio dentro de un directorio."
   ]
  },
  {
   "cell_type": "code",
   "execution_count": 19,
   "id": "82d4065e-0221-4285-a7cf-a2ff22a95b4c",
   "metadata": {},
   "outputs": [
    {
     "name": "stdout",
     "output_type": "stream",
     "text": [
      "2b Directorios.ipynb\n",
      "Books\n",
      "Desktop\n",
      "Documents\n",
      "Downloads\n",
      "patata\n",
      "Pictures\n",
      "Sandbox\n",
      "vegetales\n"
     ]
    }
   ],
   "source": [
    "%%bash\n",
    "mkdir -p vegetales/patata\n",
    "ls"
   ]
  },
  {
   "cell_type": "markdown",
   "id": "2c05c3a9-8ab2-4b4c-ba4d-0f9eea0bb5fa",
   "metadata": {},
   "source": [
    "* Puede leerse *Make Directory Parent patata*\n",
    "* Si el directorio `vegetales` no existe, lo creará primero.\n",
    "* Si un directorio del mismo nombre existe, el programa ignorará el error. Sólo lo mostrará si es un archivo."
   ]
  },
  {
   "cell_type": "markdown",
   "id": "1fb0cc76-c9ac-4361-a40c-3c48db4f2e64",
   "metadata": {},
   "source": [
    "## ¿Qué hay dentro del directorio?\n",
    "\n",
    "Para listar el contenido de un directorio en *Working Directory*."
   ]
  },
  {
   "cell_type": "code",
   "execution_count": 20,
   "id": "3b8110d3-ab02-43d1-b1e0-d93c5bbe3620",
   "metadata": {},
   "outputs": [
    {
     "name": "stdout",
     "output_type": "stream",
     "text": [
      "patata\n"
     ]
    }
   ],
   "source": [
    "%%bash\n",
    "ls vegetales"
   ]
  },
  {
   "cell_type": "markdown",
   "id": "3a4dda51-e2ac-4816-b6f8-abc11d277fa8",
   "metadata": {},
   "source": [
    "* El programa acepta como primer argumento la ruta a otro directorio dentro del *Working Directory*.\n",
    "  * Esta es una **ruta relativa** al directorio."
   ]
  },
  {
   "cell_type": "markdown",
   "id": "7391f682-607c-4404-b3a6-aabde94483e6",
   "metadata": {},
   "source": [
    "## Borrar un directorio\n",
    "\n",
    "Para borrar un directorio en el *Working Directory*."
   ]
  },
  {
   "cell_type": "code",
   "execution_count": 21,
   "id": "37d7ecb7-8b90-4c83-9424-8080dfc6f497",
   "metadata": {},
   "outputs": [
    {
     "name": "stdout",
     "output_type": "stream",
     "text": [
      "2b Directorios.ipynb\n",
      "Books\n",
      "Desktop\n",
      "Documents\n",
      "Downloads\n",
      "Pictures\n",
      "Sandbox\n",
      "vegetales\n"
     ]
    }
   ],
   "source": [
    "%%bash\n",
    "rmdir patata\n",
    "ls"
   ]
  },
  {
   "cell_type": "markdown",
   "id": "05f33e31-0b2b-4fc5-a7ec-3857359eb7e0",
   "metadata": {},
   "source": [
    "* Puede leerse *Remove Directory patata*\n",
    "* Si el directorio no está vacío, el programa retornará un error.\n",
    "* Si el directorio no existe, el programa retornará un error.\n",
    "* Si es un archivo, el programa retornará un error."
   ]
  },
  {
   "cell_type": "markdown",
   "id": "6985f867-8386-42c6-91dc-65488f1f3bf7",
   "metadata": {},
   "source": [
    "## Borrar un directorio anidado\n",
    "\n",
    "Para borrar un directorio dentro de un directorio."
   ]
  },
  {
   "cell_type": "code",
   "execution_count": 22,
   "id": "c3ddf266-7be6-4acb-859b-70d9928bfcc6",
   "metadata": {},
   "outputs": [
    {
     "name": "stdout",
     "output_type": "stream",
     "text": [
      ".\n",
      "..\n"
     ]
    }
   ],
   "source": [
    "%%bash\n",
    "rmdir vegetales/patata\n",
    "ls -a vegetales"
   ]
  },
  {
   "cell_type": "markdown",
   "id": "11f8c865-daf1-4231-8999-cf5a6ea61dc4",
   "metadata": {},
   "source": [
    "* Puede leerse como *Remove Directory patata*\n",
    "* Sólo elimina el último directorio en la ruta.\n",
    "* Tiene el mismo funcionamiento base."
   ]
  }
 ],
 "metadata": {
  "kernelspec": {
   "display_name": "Python 3 (ipykernel)",
   "language": "python",
   "name": "python3"
  },
  "language_info": {
   "codemirror_mode": {
    "name": "ipython",
    "version": 3
   },
   "file_extension": ".py",
   "mimetype": "text/x-python",
   "name": "python",
   "nbconvert_exporter": "python",
   "pygments_lexer": "ipython3",
   "version": "3.12.4"
  }
 },
 "nbformat": 4,
 "nbformat_minor": 5
}
