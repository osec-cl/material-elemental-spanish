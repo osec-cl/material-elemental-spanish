{
 "cells": [
  {
   "cell_type": "markdown",
   "id": "b48ef7b8-ca0d-4c5e-a364-6a736b92f829",
   "metadata": {},
   "source": [
    "# **$HOME en el Árbol**\n",
    "\n",
    "Objetivos:\n",
    "\n",
    "* Repasar el comando *pwd*.\n",
    "* Introducir al comando *tree*.\n",
    "* Utilizar rutas absolutas como argumentos."
   ]
  },
  {
   "cell_type": "markdown",
   "id": "6cd2ca91-59de-4ba7-8ebb-447ba424cf56",
   "metadata": {},
   "source": [
    "## Filesystem Hierarchy Standard\n",
    "\n",
    "* Árbol de directorios presente en todos los sistemas Linux.\n",
    "* El árbol comienza en `/`, el directorio raíz.\n",
    "* Rutas de directorios que comienzan con `/` son denominadas **rutas absolutas** y son leídas desde la raíz del árbol.\n",
    "  * Las rutas relativas utilizan como raíz el *Working Directory*."
   ]
  },
  {
   "cell_type": "markdown",
   "id": "d3c74763-65a7-4142-9073-b378b84c1839",
   "metadata": {},
   "source": [
    "## Current Working Directory\n",
    "\n",
    "* Puede verse con el coreutils *pwd*.\n",
    "* Por defecto es `/home/user` para el *user* de la sesión.\n",
    "* El directorio `user` se encuentra contenido en `home`.\n",
    "* El directorio `home` se encuentra contenido en `/`.\n",
    "* El directorio `/` es la raíz del árbol."
   ]
  },
  {
   "cell_type": "markdown",
   "id": "bc60719e-ab7b-47f7-ab6d-a6c8fae2243c",
   "metadata": {},
   "source": [
    "## $HOME dentro del árbol\n",
    "\n",
    "Para ver los subdirectorios de la raíz."
   ]
  },
  {
   "cell_type": "code",
   "execution_count": 4,
   "id": "4a8b5e4f-82db-40b6-bb65-2a9423be56b5",
   "metadata": {},
   "outputs": [
    {
     "name": "stdout",
     "output_type": "stream",
     "text": [
      "\u001b[01;34m/\u001b[0m\n",
      "├── \u001b[01;36mbin\u001b[0m -> \u001b[01;34musr/bin\u001b[0m\n",
      "├── \u001b[01;34mboot\u001b[0m\n",
      "├── \u001b[01;34mdev\u001b[0m\n",
      "├── \u001b[01;34mefi\u001b[0m\n",
      "├── \u001b[01;34metc\u001b[0m\n",
      "├── \u001b[01;34mhome\u001b[0m\n",
      "├── \u001b[01;36mlib\u001b[0m -> \u001b[01;34musr/lib\u001b[0m\n",
      "├── \u001b[01;36mlib64\u001b[0m -> \u001b[01;34musr/lib\u001b[0m\n",
      "├── \u001b[01;34mlost+found\u001b[0m\n",
      "├── \u001b[01;34mmnt\u001b[0m\n",
      "├── \u001b[01;34mopt\u001b[0m\n",
      "├── \u001b[01;34mproc\u001b[0m\n",
      "├── \u001b[01;34mroot\u001b[0m\n",
      "├── \u001b[01;34mrun\u001b[0m\n",
      "├── \u001b[01;36msbin\u001b[0m -> \u001b[01;34musr/bin\u001b[0m\n",
      "├── \u001b[01;34msrv\u001b[0m\n",
      "├── \u001b[01;34msys\u001b[0m\n",
      "├── \u001b[01;34mtmp\u001b[0m\n",
      "├── \u001b[01;34musr\u001b[0m\n",
      "└── \u001b[01;34mvar\u001b[0m\n",
      "\n",
      "21 directories, 0 files\n"
     ]
    }
   ],
   "source": [
    "%%bash\n",
    "tree -L 1 /"
   ]
  },
  {
   "cell_type": "markdown",
   "id": "1285dea2-aec2-4da1-bc22-357c75d13bbf",
   "metadata": {},
   "source": [
    "* Puede leerse *Tree Level One Root*.\n",
    "  * Imprime sólo los archivos y directorios contenidos en `/`.\n",
    "* No utilizar la opción *L* saturará la pantalla imprimiendo todos los archivos y directorios existentes en el sistema."
   ]
  },
  {
   "cell_type": "markdown",
   "id": "175973b5-f367-41a5-b182-eabc5b93ab40",
   "metadata": {},
   "source": [
    "## $HOME como su propio árbol\n",
    "\n",
    "Para ver los subdirectorios de $HOME."
   ]
  },
  {
   "cell_type": "code",
   "execution_count": 5,
   "id": "163eb2c4-d9da-48d5-9d34-cb1c3fb0f26c",
   "metadata": {},
   "outputs": [
    {
     "name": "stdout",
     "output_type": "stream",
     "text": [
      "\u001b[01;34m/home/sammy\u001b[0m\n",
      "├── \u001b[00m2c Directorios.ipynb\u001b[0m\n",
      "├── \u001b[01;34mBooks\u001b[0m\n",
      "├── \u001b[01;34mDesktop\u001b[0m\n",
      "├── \u001b[01;34mDocuments\u001b[0m\n",
      "├── \u001b[01;34mDownloads\u001b[0m\n",
      "├── \u001b[01;34mPictures\u001b[0m\n",
      "├── \u001b[01;34mSandbox\u001b[0m\n",
      "└── \u001b[01;34mvegetales\u001b[0m\n",
      "\n",
      "8 directories, 1 file\n"
     ]
    }
   ],
   "source": [
    "%%bash\n",
    "tree -L 1 $HOME"
   ]
  },
  {
   "cell_type": "markdown",
   "id": "38768d09-f008-4ee5-ba5e-3ffba2fa71bd",
   "metadata": {},
   "source": [
    "* Puede leerse como *Tree Level One Home*\n",
    "     * Imprime sólo los archivos y directorios contenidos en *\\$HOME*.\n",
    "* *\\$HOME* se *expande* como `/home/user` antes de ejecutarse.\n",
    "     * La shell reemplazará *user* con el nombre que corresponda."
   ]
  },
  {
   "cell_type": "code",
   "execution_count": null,
   "id": "f805bfb9-b69c-4cc0-a69b-81d7dc5aa08c",
   "metadata": {},
   "outputs": [],
   "source": []
  }
 ],
 "metadata": {
  "kernelspec": {
   "display_name": "Python 3 (ipykernel)",
   "language": "python",
   "name": "python3"
  },
  "language_info": {
   "codemirror_mode": {
    "name": "ipython",
    "version": 3
   },
   "file_extension": ".py",
   "mimetype": "text/x-python",
   "name": "python",
   "nbconvert_exporter": "python",
   "pygments_lexer": "ipython3",
   "version": "3.12.4"
  }
 },
 "nbformat": 4,
 "nbformat_minor": 5
}
